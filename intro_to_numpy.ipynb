{
  "nbformat": 4,
  "nbformat_minor": 0,
  "metadata": {
    "colab": {
      "provenance": [],
      "authorship_tag": "ABX9TyMyPPn90MpWv9QUKFI28mRb",
      "include_colab_link": true
    },
    "kernelspec": {
      "name": "python3",
      "display_name": "Python 3"
    },
    "language_info": {
      "name": "python"
    }
  },
  "cells": [
    {
      "cell_type": "markdown",
      "metadata": {
        "id": "view-in-github",
        "colab_type": "text"
      },
      "source": [
        "<a href=\"https://colab.research.google.com/github/dc-dzekochris/numpy-introduction/blob/main/intro_to_numpy.ipynb\" target=\"_parent\"><img src=\"https://colab.research.google.com/assets/colab-badge.svg\" alt=\"Open In Colab\"/></a>"
      ]
    },
    {
      "cell_type": "markdown",
      "source": [
        "#what is numpy\n",
        "is an open source library that forms the universal std of working with numerical data(matrix, vectors) and forms thr underlying foundation for libraries like pandas and matplotlib.\n",
        "\n",
        "###numpy arrays\n",
        "is the main data structure in numpy and has the following properties:\n",
        "1. store a single data type\n",
        "2. either one dimension or multidimensional\n",
        "3. elements can be modified but they are fixed size hence cant change length"
      ],
      "metadata": {
        "id": "lJj9pv4-e26j"
      }
    },
    {
      "cell_type": "code",
      "execution_count": 1,
      "metadata": {
        "id": "szoQZx_NeHDi"
      },
      "outputs": [],
      "source": [
        "import numpy as np"
      ]
    },
    {
      "cell_type": "code",
      "source": [
        "# converting a python list to a numpy array\n",
        "sales=[0,5,155,0,518,0,1827,616,317,325]\n",
        "print(type(sales))"
      ],
      "metadata": {
        "colab": {
          "base_uri": "https://localhost:8080/"
        },
        "id": "LgqNgv9hhIxD",
        "outputId": "eebf6e1f-e934-4112-8939-268bcb5bc3e2"
      },
      "execution_count": 2,
      "outputs": [
        {
          "output_type": "stream",
          "name": "stdout",
          "text": [
            "<class 'list'>\n"
          ]
        }
      ]
    },
    {
      "cell_type": "code",
      "source": [
        "sales_array=np.array(sales)\n",
        "print(type(sales_array))"
      ],
      "metadata": {
        "colab": {
          "base_uri": "https://localhost:8080/"
        },
        "id": "MxrfbxXOhzh2",
        "outputId": "1f25c09d-a100-4276-f5d4-212bc94707db"
      },
      "execution_count": 3,
      "outputs": [
        {
          "output_type": "stream",
          "name": "stdout",
          "text": [
            "<class 'numpy.ndarray'>\n"
          ]
        }
      ]
    },
    {
      "cell_type": "code",
      "source": [
        "#properties\n",
        "#ndim:no.of dimensions\n",
        "#shape:rows and columns\n",
        "#size: total no.of elements\n",
        "#dtype: data type within the array\n",
        "print(sales_array.ndim)\n",
        "print(sales_array.shape)\n",
        "print(sales_array.size)\n",
        "print(sales_array.dtype)"
      ],
      "metadata": {
        "colab": {
          "base_uri": "https://localhost:8080/"
        },
        "id": "Hu7DJ47biRey",
        "outputId": "068de43e-b3d8-434c-cf84-eb5f6a2668db"
      },
      "execution_count": 4,
      "outputs": [
        {
          "output_type": "stream",
          "name": "stdout",
          "text": [
            "1\n",
            "(10,)\n",
            "10\n",
            "int64\n"
          ]
        }
      ]
    },
    {
      "cell_type": "code",
      "source": [
        "sales[[0, 5, 155, 0, 518],[0, 1827, 616, 317, 325]]\n",
        "sales_array=np.array(sales)\n",
        "print(sales_array.ndim)\n",
        "print(sales_array.shape)\n",
        "print(sales_array.size)\n",
        "print(sales_array.dtype)"
      ],
      "metadata": {
        "colab": {
          "base_uri": "https://localhost:8080/",
          "height": 217
        },
        "id": "f4FdhGl_jJMj",
        "outputId": "b3f11cab-5d56-4759-cfde-ae15cdd460a5"
      },
      "execution_count": 10,
      "outputs": [
        {
          "output_type": "error",
          "ename": "TypeError",
          "evalue": "list indices must be integers or slices, not tuple",
          "traceback": [
            "\u001b[0;31m---------------------------------------------------------------------------\u001b[0m",
            "\u001b[0;31mTypeError\u001b[0m                                 Traceback (most recent call last)",
            "\u001b[0;32m<ipython-input-10-f9d3bba8ce5f>\u001b[0m in \u001b[0;36m<cell line: 1>\u001b[0;34m()\u001b[0m\n\u001b[0;32m----> 1\u001b[0;31m \u001b[0msales\u001b[0m\u001b[0;34m[\u001b[0m\u001b[0;34m[\u001b[0m\u001b[0;36m0\u001b[0m\u001b[0;34m,\u001b[0m \u001b[0;36m5\u001b[0m\u001b[0;34m,\u001b[0m \u001b[0;36m155\u001b[0m\u001b[0;34m,\u001b[0m \u001b[0;36m0\u001b[0m\u001b[0;34m,\u001b[0m \u001b[0;36m518\u001b[0m\u001b[0;34m]\u001b[0m\u001b[0;34m,\u001b[0m \u001b[0;34m[\u001b[0m\u001b[0;36m0\u001b[0m\u001b[0;34m,\u001b[0m \u001b[0;36m1827\u001b[0m\u001b[0;34m,\u001b[0m \u001b[0;36m616\u001b[0m\u001b[0;34m,\u001b[0m \u001b[0;36m317\u001b[0m\u001b[0;34m,\u001b[0m \u001b[0;36m325\u001b[0m\u001b[0;34m]\u001b[0m\u001b[0;34m]\u001b[0m\u001b[0;34m\u001b[0m\u001b[0;34m\u001b[0m\u001b[0m\n\u001b[0m\u001b[1;32m      2\u001b[0m \u001b[0msales_array\u001b[0m\u001b[0;34m=\u001b[0m\u001b[0mnp\u001b[0m\u001b[0;34m.\u001b[0m\u001b[0marray\u001b[0m\u001b[0;34m(\u001b[0m\u001b[0msales\u001b[0m\u001b[0;34m)\u001b[0m\u001b[0;34m\u001b[0m\u001b[0;34m\u001b[0m\u001b[0m\n\u001b[1;32m      3\u001b[0m \u001b[0mprint\u001b[0m\u001b[0;34m(\u001b[0m\u001b[0msales_array\u001b[0m\u001b[0;34m.\u001b[0m\u001b[0mndim\u001b[0m\u001b[0;34m)\u001b[0m\u001b[0;34m\u001b[0m\u001b[0;34m\u001b[0m\u001b[0m\n\u001b[1;32m      4\u001b[0m \u001b[0mprint\u001b[0m\u001b[0;34m(\u001b[0m\u001b[0msales_array\u001b[0m\u001b[0;34m.\u001b[0m\u001b[0mshape\u001b[0m\u001b[0;34m)\u001b[0m\u001b[0;34m\u001b[0m\u001b[0;34m\u001b[0m\u001b[0m\n\u001b[1;32m      5\u001b[0m \u001b[0mprint\u001b[0m\u001b[0;34m(\u001b[0m\u001b[0msales_array\u001b[0m\u001b[0;34m.\u001b[0m\u001b[0msize\u001b[0m\u001b[0;34m)\u001b[0m\u001b[0;34m\u001b[0m\u001b[0;34m\u001b[0m\u001b[0m\n",
            "\u001b[0;31mTypeError\u001b[0m: list indices must be integers or slices, not tuple"
          ]
        }
      ]
    },
    {
      "cell_type": "markdown",
      "source": [
        "##numpy array creation\n",
        "we use the following;\n",
        "1.np.ones()\n",
        "2.np.zeros\n",
        "3.np.arrange\n",
        "4.np.linspace\n",
        "5.np.reshape"
      ],
      "metadata": {
        "id": "mXCUAai0kYHa"
      }
    },
    {
      "cell_type": "code",
      "source": [
        "#ones: float by default\n",
        "np.ones(5)\n"
      ],
      "metadata": {
        "colab": {
          "base_uri": "https://localhost:8080/"
        },
        "id": "OSPb7uGGlC2C",
        "outputId": "36eef7a1-70c5-4f91-9b70-d663a683a482"
      },
      "execution_count": 9,
      "outputs": [
        {
          "output_type": "execute_result",
          "data": {
            "text/plain": [
              "array([1., 1., 1., 1., 1.])"
            ]
          },
          "metadata": {},
          "execution_count": 9
        }
      ]
    },
    {
      "cell_type": "code",
      "source": [
        "zeros=np.zeros(5,dtype=int)\n",
        "zeros.dtype"
      ],
      "metadata": {
        "colab": {
          "base_uri": "https://localhost:8080/"
        },
        "id": "OXqEuG2zlZjF",
        "outputId": "662ae818-2201-46f3-b9d1-7e5225734612"
      },
      "execution_count": 11,
      "outputs": [
        {
          "output_type": "execute_result",
          "data": {
            "text/plain": [
              "dtype('int64')"
            ]
          },
          "metadata": {},
          "execution_count": 11
        }
      ]
    },
    {
      "cell_type": "code",
      "source": [
        "#arange(start,stop,step)\n",
        "np.arange(2,10,2).reshape(2,2)"
      ],
      "metadata": {
        "colab": {
          "base_uri": "https://localhost:8080/"
        },
        "id": "RQXYariDlyWT",
        "outputId": "c98ef5ba-4a13-4027-88c9-9f6e12c6f820"
      },
      "execution_count": 14,
      "outputs": [
        {
          "output_type": "execute_result",
          "data": {
            "text/plain": [
              "array([[2, 4],\n",
              "       [6, 8]])"
            ]
          },
          "metadata": {},
          "execution_count": 14
        }
      ]
    },
    {
      "cell_type": "markdown",
      "source": [],
      "metadata": {
        "id": "HS1CVXcfms4m"
      }
    },
    {
      "cell_type": "code",
      "source": [
        "#linspace\n",
        "np.linspace(0,1000,5)"
      ],
      "metadata": {
        "colab": {
          "base_uri": "https://localhost:8080/"
        },
        "id": "9N7mf0EcmETu",
        "outputId": "03e57099-07ce-4e3e-ecd6-7a3496714932"
      },
      "execution_count": 13,
      "outputs": [
        {
          "output_type": "execute_result",
          "data": {
            "text/plain": [
              "array([   0.,  250.,  500.,  750., 1000.])"
            ]
          },
          "metadata": {},
          "execution_count": 13
        }
      ]
    },
    {
      "cell_type": "markdown",
      "source": [
        "###indexing and slicing numpy arrays\n"
      ],
      "metadata": {
        "id": "ilhP14aBm1L_"
      }
    },
    {
      "cell_type": "code",
      "source": [
        "counties=[\"nairobi\",\"kisumu\",\"eldoret\",\"kiambu\",\"lamu\",\"kwale\",\"nakuru\",\"nyeri\"]\n",
        "counties_array=np.array(counties).reshape(2,4)\n",
        "counties_array"
      ],
      "metadata": {
        "colab": {
          "base_uri": "https://localhost:8080/"
        },
        "id": "v1cx47qBm-kg",
        "outputId": "f8ed0fdc-e24f-4b42-811a-6ccda62a4fde"
      },
      "execution_count": 16,
      "outputs": [
        {
          "output_type": "execute_result",
          "data": {
            "text/plain": [
              "array([['nairobi', 'kisumu', 'eldoret', 'kiambu'],\n",
              "       ['lamu', 'kwale', 'nakuru', 'nyeri']], dtype='<U7')"
            ]
          },
          "metadata": {},
          "execution_count": 16
        }
      ]
    },
    {
      "cell_type": "code",
      "source": [
        "eldoret_county=counties_array[0,2]\n",
        "eldoret_county"
      ],
      "metadata": {
        "colab": {
          "base_uri": "https://localhost:8080/",
          "height": 35
        },
        "id": "9kds_xmTn51X",
        "outputId": "296d895f-9639-4894-e9cd-1e9e8addc684"
      },
      "execution_count": 17,
      "outputs": [
        {
          "output_type": "execute_result",
          "data": {
            "text/plain": [
              "'eldoret'"
            ],
            "application/vnd.google.colaboratory.intrinsic+json": {
              "type": "string"
            }
          },
          "metadata": {},
          "execution_count": 17
        }
      ]
    },
    {
      "cell_type": "code",
      "source": [
        "lamu_county=counties_array[1,0]\n",
        "lamu_county"
      ],
      "metadata": {
        "colab": {
          "base_uri": "https://localhost:8080/",
          "height": 35
        },
        "id": "XluuWk0zoJ4e",
        "outputId": "4e859bdb-a91a-4d55-a6d1-ebc3401aa5ac"
      },
      "execution_count": 18,
      "outputs": [
        {
          "output_type": "execute_result",
          "data": {
            "text/plain": [
              "'lamu'"
            ],
            "application/vnd.google.colaboratory.intrinsic+json": {
              "type": "string"
            }
          },
          "metadata": {},
          "execution_count": 18
        }
      ]
    },
    {
      "cell_type": "code",
      "source": [
        "#access for all (:) the record, the first 2 columns\n",
        "counties_array.shape\n",
        "counties_array[:,:2]"
      ],
      "metadata": {
        "colab": {
          "base_uri": "https://localhost:8080/"
        },
        "id": "Afx8jS8UobCJ",
        "outputId": "c9d9f330-f3e3-4909-ffbe-c2386d7046b3"
      },
      "execution_count": 19,
      "outputs": [
        {
          "output_type": "execute_result",
          "data": {
            "text/plain": [
              "array([['nairobi', 'kisumu'],\n",
              "       ['lamu', 'kwale']], dtype='<U7')"
            ]
          },
          "metadata": {},
          "execution_count": 19
        }
      ]
    },
    {
      "cell_type": "code",
      "source": [
        "#first record, all the columns\n",
        "counties_array[0]"
      ],
      "metadata": {
        "id": "pMxIRke0pJHv"
      },
      "execution_count": null,
      "outputs": []
    },
    {
      "cell_type": "markdown",
      "source": [
        "###filtering numpy arrays(conditions)"
      ],
      "metadata": {
        "id": "kI1yKGCzp7Bz"
      }
    },
    {
      "cell_type": "code",
      "source": [
        "sales_array"
      ],
      "metadata": {
        "colab": {
          "base_uri": "https://localhost:8080/"
        },
        "id": "I0msdzEiqCJA",
        "outputId": "1a44d42b-4de9-4dbf-b818-bff38983d285"
      },
      "execution_count": 21,
      "outputs": [
        {
          "output_type": "execute_result",
          "data": {
            "text/plain": [
              "array([   0,    5,  155,    0,  518,    0, 1827,  616,  317,  325])"
            ]
          },
          "metadata": {},
          "execution_count": 21
        }
      ]
    },
    {
      "cell_type": "code",
      "source": [
        "sales_array!=0"
      ],
      "metadata": {
        "colab": {
          "base_uri": "https://localhost:8080/"
        },
        "id": "iV1js7l4qTIA",
        "outputId": "f964007e-4632-44b2-d773-7055c9e38a85"
      },
      "execution_count": 22,
      "outputs": [
        {
          "output_type": "execute_result",
          "data": {
            "text/plain": [
              "array([False,  True,  True, False,  True, False,  True,  True,  True,\n",
              "        True])"
            ]
          },
          "metadata": {},
          "execution_count": 22
        }
      ]
    },
    {
      "cell_type": "code",
      "source": [
        "condition=sales_array!=0\n",
        "sales_array[condition]"
      ],
      "metadata": {
        "colab": {
          "base_uri": "https://localhost:8080/"
        },
        "id": "n6Mh4qxRqaLC",
        "outputId": "07d37131-965b-485d-a1e0-e17051c70099"
      },
      "execution_count": 23,
      "outputs": [
        {
          "output_type": "execute_result",
          "data": {
            "text/plain": [
              "array([   5,  155,  518, 1827,  616,  317,  325])"
            ]
          },
          "metadata": {},
          "execution_count": 23
        }
      ]
    },
    {
      "cell_type": "code",
      "source": [
        "#filtering arrays with multiple conditions\n",
        "sales_array"
      ],
      "metadata": {
        "colab": {
          "base_uri": "https://localhost:8080/"
        },
        "id": "0nEdtsupq4Do",
        "outputId": "35f09156-cb87-42d7-aca7-70bea5fd7b8a"
      },
      "execution_count": 24,
      "outputs": [
        {
          "output_type": "execute_result",
          "data": {
            "text/plain": [
              "array([   0,    5,  155,    0,  518,    0, 1827,  616,  317,  325])"
            ]
          },
          "metadata": {},
          "execution_count": 24
        }
      ]
    },
    {
      "cell_type": "code",
      "source": [
        "(sales_array==616) |(sales_array<100)\n",
        "sales_array[condition]"
      ],
      "metadata": {
        "colab": {
          "base_uri": "https://localhost:8080/"
        },
        "id": "R7SUycWgrJSB",
        "outputId": "4d848daa-ed94-40b1-9953-92900cde332f"
      },
      "execution_count": 25,
      "outputs": [
        {
          "output_type": "execute_result",
          "data": {
            "text/plain": [
              "array([   5,  155,  518, 1827,  616,  317,  325])"
            ]
          },
          "metadata": {},
          "execution_count": 25
        }
      ]
    },
    {
      "cell_type": "code",
      "source": [
        "#filtering using where (condition,ifblock,elseblock) condition\n",
        "sales_inventory=np.array([12,18,102,0,0])\n",
        "sales_inventory"
      ],
      "metadata": {
        "colab": {
          "base_uri": "https://localhost:8080/"
        },
        "collapsed": true,
        "id": "eWYcqMTPtDaW",
        "outputId": "e77ee399-a274-4c41-e9ce-796b5b71842f"
      },
      "execution_count": 28,
      "outputs": [
        {
          "output_type": "execute_result",
          "data": {
            "text/plain": [
              "array([ 12,  18, 102,   0,   0])"
            ]
          },
          "metadata": {},
          "execution_count": 28
        }
      ]
    },
    {
      "cell_type": "code",
      "source": [
        "#where\n",
        "np.where(sales_inventory<=0,\"out of stock\",\"in stock\")"
      ],
      "metadata": {
        "colab": {
          "base_uri": "https://localhost:8080/"
        },
        "id": "N6jg2pNit5Us",
        "outputId": "8991aed4-46d7-4fe3-ce70-baffae5576b2"
      },
      "execution_count": 29,
      "outputs": [
        {
          "output_type": "execute_result",
          "data": {
            "text/plain": [
              "array(['in stock', 'in stock', 'in stock', 'out of stock', 'out of stock'],\n",
              "      dtype='<U12')"
            ]
          },
          "metadata": {},
          "execution_count": 29
        }
      ]
    },
    {
      "cell_type": "code",
      "source": [
        "#products array\n",
        "products_array=np.array([\"egg\",\"milk\",\"bread\",\"rice\",\"beans\"])\n",
        "products_array"
      ],
      "metadata": {
        "colab": {
          "base_uri": "https://localhost:8080/"
        },
        "id": "2lhVuvdAuKj1",
        "outputId": "6eeeb39e-ee95-43ef-d3ae-f9f021d38266"
      },
      "execution_count": 30,
      "outputs": [
        {
          "output_type": "execute_result",
          "data": {
            "text/plain": [
              "array(['egg', 'milk', 'bread', 'rice', 'beans'], dtype='<U5')"
            ]
          },
          "metadata": {},
          "execution_count": 30
        }
      ]
    },
    {
      "cell_type": "code",
      "source": [
        "np.where(sales_inventory<=0,\"out of stock\",products_array)"
      ],
      "metadata": {
        "colab": {
          "base_uri": "https://localhost:8080/"
        },
        "id": "fsvM1QMeulQA",
        "outputId": "ddab16b5-9b80-4e04-8298-c63f4e736bb6"
      },
      "execution_count": 32,
      "outputs": [
        {
          "output_type": "execute_result",
          "data": {
            "text/plain": [
              "array(['egg', 'milk', 'bread', 'out of stock', 'out of stock'],\n",
              "      dtype='<U12')"
            ]
          },
          "metadata": {},
          "execution_count": 32
        }
      ]
    },
    {
      "cell_type": "markdown",
      "source": [
        "###array aggregation methods\n",
        "1.sum\n",
        "2.mean\n",
        "3.count\n",
        "4.median\n",
        "5.std\n",
        "6.var\n",
        "7.max\n",
        "8.min"
      ],
      "metadata": {
        "id": "U0MjC8MzvEjZ"
      }
    },
    {
      "cell_type": "code",
      "source": [
        "sales_array"
      ],
      "metadata": {
        "colab": {
          "base_uri": "https://localhost:8080/"
        },
        "id": "6-hE0U3UvfcB",
        "outputId": "38c73386-7e72-4561-b67e-8a6c3fe59fbf"
      },
      "execution_count": 33,
      "outputs": [
        {
          "output_type": "execute_result",
          "data": {
            "text/plain": [
              "array([   0,    5,  155,    0,  518,    0, 1827,  616,  317,  325])"
            ]
          },
          "metadata": {},
          "execution_count": 33
        }
      ]
    },
    {
      "cell_type": "code",
      "source": [
        "sales_array.sum()"
      ],
      "metadata": {
        "colab": {
          "base_uri": "https://localhost:8080/"
        },
        "id": "eKJinOyRvjDC",
        "outputId": "856bb7c2-32a7-4bba-8443-141fe5406fa1"
      },
      "execution_count": 34,
      "outputs": [
        {
          "output_type": "execute_result",
          "data": {
            "text/plain": [
              "3763"
            ]
          },
          "metadata": {},
          "execution_count": 34
        }
      ]
    },
    {
      "cell_type": "code",
      "source": [
        "sales_array.min()"
      ],
      "metadata": {
        "colab": {
          "base_uri": "https://localhost:8080/"
        },
        "id": "Lb7fmrPFvsE1",
        "outputId": "5921f4ba-316e-4dce-a028-4f9ea4a955a3"
      },
      "execution_count": 35,
      "outputs": [
        {
          "output_type": "execute_result",
          "data": {
            "text/plain": [
              "0"
            ]
          },
          "metadata": {},
          "execution_count": 35
        }
      ]
    },
    {
      "cell_type": "code",
      "source": [
        "sales_array.max()"
      ],
      "metadata": {
        "colab": {
          "base_uri": "https://localhost:8080/"
        },
        "id": "SKItzHe9vzT3",
        "outputId": "0c252b45-29c0-413b-c2e4-e7714e46ff5b"
      },
      "execution_count": 37,
      "outputs": [
        {
          "output_type": "execute_result",
          "data": {
            "text/plain": [
              "1827"
            ]
          },
          "metadata": {},
          "execution_count": 37
        }
      ]
    },
    {
      "cell_type": "code",
      "source": [
        "sales_array.mean()\n"
      ],
      "metadata": {
        "colab": {
          "base_uri": "https://localhost:8080/"
        },
        "id": "babrxAr3v7of",
        "outputId": "10fcc160-ef81-4fa1-d489-6147e6e3fccf"
      },
      "execution_count": 39,
      "outputs": [
        {
          "output_type": "execute_result",
          "data": {
            "text/plain": [
              "376.3"
            ]
          },
          "metadata": {},
          "execution_count": 39
        }
      ]
    },
    {
      "cell_type": "code",
      "source": [
        "sales_array.std()"
      ],
      "metadata": {
        "colab": {
          "base_uri": "https://localhost:8080/"
        },
        "id": "oc23TV-IwIT9",
        "outputId": "ff0fc133-4b31-43df-dad8-6e97d6c43f72"
      },
      "execution_count": 40,
      "outputs": [
        {
          "output_type": "execute_result",
          "data": {
            "text/plain": [
              "529.1366647662965"
            ]
          },
          "metadata": {},
          "execution_count": 40
        }
      ]
    },
    {
      "cell_type": "code",
      "source": [
        "np.percentile(sales_array,[25,75])"
      ],
      "metadata": {
        "colab": {
          "base_uri": "https://localhost:8080/"
        },
        "id": "LewGHceRwX0H",
        "outputId": "6deb99c6-2226-4e02-d119-97731445eae3"
      },
      "execution_count": 41,
      "outputs": [
        {
          "output_type": "execute_result",
          "data": {
            "text/plain": [
              "array([  1.25, 469.75])"
            ]
          },
          "metadata": {},
          "execution_count": 41
        }
      ]
    }
  ]
}